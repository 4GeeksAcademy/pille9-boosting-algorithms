{
    "cells": [
        {
            "cell_type": "markdown",
            "metadata": {},
            "source": [
                "# Explore here"
            ]
        },
        {
            "cell_type": "code",
            "execution_count": 24,
            "metadata": {},
            "outputs": [],
            "source": [
                "# Your code here\n",
                "import pandas as pd\n",
                "import matplotlib.pyplot as plt\n",
                "from sklearn.preprocessing import StandardScaler\n",
                "from sklearn.model_selection import train_test_split\n",
                "from sklearn.tree import DecisionTreeClassifier, plot_tree, export_text\n",
                "from sklearn.metrics import *\n",
                "from imblearn.metrics import specificity_score\n",
                "import statsmodels.api as sm\n",
                "import numpy as np\n",
                "import xgboost as xgb\n",
                "from statsmodels.stats.outliers_influence import variance_inflation_factor\n",
                "import seaborn as sns\n",
                "from sklearn.model_selection import GridSearchCV\n",
                "from sklearn.preprocessing import MinMaxScaler\n",
                "from sklearn.ensemble import RandomForestClassifier\n",
                "from sklearn.ensemble import GradientBoostingClassifier"
            ]
        },
        {
            "cell_type": "code",
            "execution_count": 25,
            "metadata": {},
            "outputs": [],
            "source": [
                "train_data = pd.read_csv(\"/workspaces/pille9-boosting-algorithms/data/processed/train_data.csv\")\n",
                "test_data = pd.read_csv(\"/workspaces/pille9-boosting-algorithms/data/processed/test_data.csv\")"
            ]
        },
        {
            "cell_type": "code",
            "execution_count": 26,
            "metadata": {},
            "outputs": [],
            "source": [
                "X_train = train_data.drop([\"Outcome\"], axis = 1)\n",
                "y_train = train_data[\"Outcome\"]\n",
                "X_test = test_data.drop([\"Outcome\"], axis = 1)\n",
                "y_test = test_data[\"Outcome\"]"
            ]
        },
        {
            "cell_type": "code",
            "execution_count": 27,
            "metadata": {},
            "outputs": [],
            "source": [
                "def get_metrics(y_train, y_test, y_pred_train, y_pred_test):\n",
                "    # Calcular métricas para el conjunto de entrenamiento\n",
                "    train_accuracy = accuracy_score(y_train, y_pred_train)\n",
                "    train_f1 = f1_score(y_train, y_pred_train)\n",
                "    train_auc = roc_auc_score(y_train, y_pred_train)\n",
                "    train_precision = precision_score(y_train, y_pred_train)\n",
                "    train_recall = recall_score(y_train, y_pred_train)\n",
                "    train_specificity = specificity_score(y_train, y_pred_train)\n",
                "\n",
                "    # Calcular métricas para el conjunto de prueba\n",
                "    test_accuracy = accuracy_score(y_test, y_pred_test)\n",
                "    test_f1 = f1_score(y_test, y_pred_test)\n",
                "    test_auc = roc_auc_score(y_test, y_pred_test)\n",
                "    test_precision = precision_score(y_test, y_pred_test)\n",
                "    test_recall = recall_score(y_test, y_pred_test)\n",
                "    test_specificity = specificity_score(y_test, y_pred_test)\n",
                "\n",
                "    # Calcular la diferencia entre métricas de entrenamiento y prueba\n",
                "    diff_accuracy = train_accuracy - test_accuracy\n",
                "    diff_f1 = train_f1 - test_f1\n",
                "    diff_auc = train_auc - test_auc\n",
                "    diff_precision = train_precision - test_precision\n",
                "    diff_recall = train_recall - test_recall\n",
                "    diff_specificity = train_specificity - test_specificity\n",
                "\n",
                "    # Crear un DataFrame con los resultados\n",
                "    metrics_df = pd.DataFrame([[train_accuracy, train_f1, train_auc, train_precision, train_recall, train_specificity],[test_accuracy, test_f1, test_auc, test_precision, test_recall, test_specificity],[diff_accuracy, diff_f1, diff_auc, diff_precision, diff_recall, diff_specificity]],\n",
                "                              columns = ['Accuracy', 'F1', 'AUC', 'Precision', 'Recall', 'Specificity'],\n",
                "                              index = ['Train','Test', 'Diferencia'])\n",
                "\n",
                "    return metrics_df"
            ]
        },
        {
            "cell_type": "code",
            "execution_count": 28,
            "metadata": {},
            "outputs": [
                {
                    "data": {
                        "text/html": [
                            "<div>\n",
                            "<style scoped>\n",
                            "    .dataframe tbody tr th:only-of-type {\n",
                            "        vertical-align: middle;\n",
                            "    }\n",
                            "\n",
                            "    .dataframe tbody tr th {\n",
                            "        vertical-align: top;\n",
                            "    }\n",
                            "\n",
                            "    .dataframe thead th {\n",
                            "        text-align: right;\n",
                            "    }\n",
                            "</style>\n",
                            "<table border=\"1\" class=\"dataframe\">\n",
                            "  <thead>\n",
                            "    <tr style=\"text-align: right;\">\n",
                            "      <th></th>\n",
                            "      <th>Accuracy</th>\n",
                            "      <th>F1</th>\n",
                            "      <th>AUC</th>\n",
                            "      <th>Precision</th>\n",
                            "      <th>Recall</th>\n",
                            "      <th>Specificity</th>\n",
                            "    </tr>\n",
                            "  </thead>\n",
                            "  <tbody>\n",
                            "    <tr>\n",
                            "      <th>Train</th>\n",
                            "      <td>0.938462</td>\n",
                            "      <td>0.902703</td>\n",
                            "      <td>0.916126</td>\n",
                            "      <td>0.965318</td>\n",
                            "      <td>0.847716</td>\n",
                            "      <td>0.984536</td>\n",
                            "    </tr>\n",
                            "    <tr>\n",
                            "      <th>Test</th>\n",
                            "      <td>0.755102</td>\n",
                            "      <td>0.632653</td>\n",
                            "      <td>0.716601</td>\n",
                            "      <td>0.720930</td>\n",
                            "      <td>0.563636</td>\n",
                            "      <td>0.869565</td>\n",
                            "    </tr>\n",
                            "    <tr>\n",
                            "      <th>Diferencia</th>\n",
                            "      <td>0.183359</td>\n",
                            "      <td>0.270050</td>\n",
                            "      <td>0.199525</td>\n",
                            "      <td>0.244388</td>\n",
                            "      <td>0.284079</td>\n",
                            "      <td>0.114971</td>\n",
                            "    </tr>\n",
                            "  </tbody>\n",
                            "</table>\n",
                            "</div>"
                        ],
                        "text/plain": [
                            "            Accuracy        F1       AUC  Precision    Recall  Specificity\n",
                            "Train       0.938462  0.902703  0.916126   0.965318  0.847716     0.984536\n",
                            "Test        0.755102  0.632653  0.716601   0.720930  0.563636     0.869565\n",
                            "Diferencia  0.183359  0.270050  0.199525   0.244388  0.284079     0.114971"
                        ]
                    },
                    "execution_count": 28,
                    "metadata": {},
                    "output_type": "execute_result"
                }
            ],
            "source": [
                "# GradientBoostingClassifier default\n",
                "gb = GradientBoostingClassifier(random_state=42)\n",
                "gb.fit(X_train, y_train)\n",
                "\n",
                "y_pred_train = gb.predict(X_train)\n",
                "y_pred_test = gb.predict(X_test)\n",
                "\n",
                "get_metrics(y_train, y_test, y_pred_train, y_pred_test)"
            ]
        },
        {
            "cell_type": "markdown",
            "metadata": {},
            "source": [
                "Objetivo: Mejorar el aprendizaje agregando más árboles y bajando la tasa de aprendizaje para que aprenda de manera más progresiva. min_samples_split y subsample para evitar sobreajuste."
            ]
        },
        {
            "cell_type": "code",
            "execution_count": 29,
            "metadata": {},
            "outputs": [
                {
                    "data": {
                        "text/html": [
                            "<div>\n",
                            "<style scoped>\n",
                            "    .dataframe tbody tr th:only-of-type {\n",
                            "        vertical-align: middle;\n",
                            "    }\n",
                            "\n",
                            "    .dataframe tbody tr th {\n",
                            "        vertical-align: top;\n",
                            "    }\n",
                            "\n",
                            "    .dataframe thead th {\n",
                            "        text-align: right;\n",
                            "    }\n",
                            "</style>\n",
                            "<table border=\"1\" class=\"dataframe\">\n",
                            "  <thead>\n",
                            "    <tr style=\"text-align: right;\">\n",
                            "      <th></th>\n",
                            "      <th>Accuracy</th>\n",
                            "      <th>F1</th>\n",
                            "      <th>AUC</th>\n",
                            "      <th>Precision</th>\n",
                            "      <th>Recall</th>\n",
                            "      <th>Specificity</th>\n",
                            "    </tr>\n",
                            "  </thead>\n",
                            "  <tbody>\n",
                            "    <tr>\n",
                            "      <th>Train</th>\n",
                            "      <td>0.993162</td>\n",
                            "      <td>0.989744</td>\n",
                            "      <td>0.989848</td>\n",
                            "      <td>1.000000</td>\n",
                            "      <td>0.979695</td>\n",
                            "      <td>1.000000</td>\n",
                            "    </tr>\n",
                            "    <tr>\n",
                            "      <th>Test</th>\n",
                            "      <td>0.734694</td>\n",
                            "      <td>0.597938</td>\n",
                            "      <td>0.692984</td>\n",
                            "      <td>0.690476</td>\n",
                            "      <td>0.527273</td>\n",
                            "      <td>0.858696</td>\n",
                            "    </tr>\n",
                            "    <tr>\n",
                            "      <th>Diferencia</th>\n",
                            "      <td>0.258469</td>\n",
                            "      <td>0.391805</td>\n",
                            "      <td>0.296864</td>\n",
                            "      <td>0.309524</td>\n",
                            "      <td>0.452423</td>\n",
                            "      <td>0.141304</td>\n",
                            "    </tr>\n",
                            "  </tbody>\n",
                            "</table>\n",
                            "</div>"
                        ],
                        "text/plain": [
                            "            Accuracy        F1       AUC  Precision    Recall  Specificity\n",
                            "Train       0.993162  0.989744  0.989848   1.000000  0.979695     1.000000\n",
                            "Test        0.734694  0.597938  0.692984   0.690476  0.527273     0.858696\n",
                            "Diferencia  0.258469  0.391805  0.296864   0.309524  0.452423     0.141304"
                        ]
                    },
                    "execution_count": 29,
                    "metadata": {},
                    "output_type": "execute_result"
                }
            ],
            "source": [
                "# Distintos hiperparámetros 1\n",
                "gb1 = GradientBoostingClassifier(n_estimators=400, learning_rate=0.05, max_depth=3, min_samples_split=10, subsample=0.8, random_state=42)\n",
                "gb1.fit(X_train, y_train)\n",
                "\n",
                "y_pred_train1 = gb1.predict(X_train)\n",
                "y_pred_test1 = gb1.predict(X_test)\n",
                "\n",
                "get_metrics(y_train, y_test, y_pred_train1, y_pred_test1)"
            ]
        },
        {
            "cell_type": "markdown",
            "metadata": {},
            "source": [
                "Objetivo: Reducir max_depth y learning_rate para reducir el sobreajuste."
            ]
        },
        {
            "cell_type": "code",
            "execution_count": 30,
            "metadata": {},
            "outputs": [
                {
                    "data": {
                        "text/html": [
                            "<div>\n",
                            "<style scoped>\n",
                            "    .dataframe tbody tr th:only-of-type {\n",
                            "        vertical-align: middle;\n",
                            "    }\n",
                            "\n",
                            "    .dataframe tbody tr th {\n",
                            "        vertical-align: top;\n",
                            "    }\n",
                            "\n",
                            "    .dataframe thead th {\n",
                            "        text-align: right;\n",
                            "    }\n",
                            "</style>\n",
                            "<table border=\"1\" class=\"dataframe\">\n",
                            "  <thead>\n",
                            "    <tr style=\"text-align: right;\">\n",
                            "      <th></th>\n",
                            "      <th>Accuracy</th>\n",
                            "      <th>F1</th>\n",
                            "      <th>AUC</th>\n",
                            "      <th>Precision</th>\n",
                            "      <th>Recall</th>\n",
                            "      <th>Specificity</th>\n",
                            "    </tr>\n",
                            "  </thead>\n",
                            "  <tbody>\n",
                            "    <tr>\n",
                            "      <th>Train</th>\n",
                            "      <td>0.847863</td>\n",
                            "      <td>0.746439</td>\n",
                            "      <td>0.802848</td>\n",
                            "      <td>0.850649</td>\n",
                            "      <td>0.664975</td>\n",
                            "      <td>0.940722</td>\n",
                            "    </tr>\n",
                            "    <tr>\n",
                            "      <th>Test</th>\n",
                            "      <td>0.755102</td>\n",
                            "      <td>0.625000</td>\n",
                            "      <td>0.712945</td>\n",
                            "      <td>0.731707</td>\n",
                            "      <td>0.545455</td>\n",
                            "      <td>0.880435</td>\n",
                            "    </tr>\n",
                            "    <tr>\n",
                            "      <th>Diferencia</th>\n",
                            "      <td>0.092761</td>\n",
                            "      <td>0.121439</td>\n",
                            "      <td>0.089903</td>\n",
                            "      <td>0.118942</td>\n",
                            "      <td>0.119520</td>\n",
                            "      <td>0.060287</td>\n",
                            "    </tr>\n",
                            "  </tbody>\n",
                            "</table>\n",
                            "</div>"
                        ],
                        "text/plain": [
                            "            Accuracy        F1       AUC  Precision    Recall  Specificity\n",
                            "Train       0.847863  0.746439  0.802848   0.850649  0.664975     0.940722\n",
                            "Test        0.755102  0.625000  0.712945   0.731707  0.545455     0.880435\n",
                            "Diferencia  0.092761  0.121439  0.089903   0.118942  0.119520     0.060287"
                        ]
                    },
                    "execution_count": 30,
                    "metadata": {},
                    "output_type": "execute_result"
                }
            ],
            "source": [
                "# Distintos hiperparámetros 2\n",
                "gb2 = GradientBoostingClassifier(n_estimators=200, learning_rate=0.02, max_depth=2, min_samples_split=10, subsample=0.8, random_state=42)\n",
                "gb2.fit(X_train, y_train)\n",
                "\n",
                "y_pred_train2 = gb2.predict(X_train)\n",
                "y_pred_test2 = gb2.predict(X_test)\n",
                "\n",
                "get_metrics(y_train, y_test, y_pred_train2, y_pred_test2)"
            ]
        },
        {
            "cell_type": "markdown",
            "metadata": {},
            "source": [
                "Objetivo: Bajar learning_rate para hacer el modelo más estable, aumentar n_estimators para compensar el learning_rate más bajo y aumentar min_samples_split para mejorar la generalización."
            ]
        },
        {
            "cell_type": "code",
            "execution_count": 31,
            "metadata": {},
            "outputs": [
                {
                    "data": {
                        "text/html": [
                            "<div>\n",
                            "<style scoped>\n",
                            "    .dataframe tbody tr th:only-of-type {\n",
                            "        vertical-align: middle;\n",
                            "    }\n",
                            "\n",
                            "    .dataframe tbody tr th {\n",
                            "        vertical-align: top;\n",
                            "    }\n",
                            "\n",
                            "    .dataframe thead th {\n",
                            "        text-align: right;\n",
                            "    }\n",
                            "</style>\n",
                            "<table border=\"1\" class=\"dataframe\">\n",
                            "  <thead>\n",
                            "    <tr style=\"text-align: right;\">\n",
                            "      <th></th>\n",
                            "      <th>Accuracy</th>\n",
                            "      <th>F1</th>\n",
                            "      <th>AUC</th>\n",
                            "      <th>Precision</th>\n",
                            "      <th>Recall</th>\n",
                            "      <th>Specificity</th>\n",
                            "    </tr>\n",
                            "  </thead>\n",
                            "  <tbody>\n",
                            "    <tr>\n",
                            "      <th>Train</th>\n",
                            "      <td>0.856410</td>\n",
                            "      <td>0.765363</td>\n",
                            "      <td>0.816788</td>\n",
                            "      <td>0.850932</td>\n",
                            "      <td>0.695431</td>\n",
                            "      <td>0.938144</td>\n",
                            "    </tr>\n",
                            "    <tr>\n",
                            "      <th>Test</th>\n",
                            "      <td>0.755102</td>\n",
                            "      <td>0.625000</td>\n",
                            "      <td>0.712945</td>\n",
                            "      <td>0.731707</td>\n",
                            "      <td>0.545455</td>\n",
                            "      <td>0.880435</td>\n",
                            "    </tr>\n",
                            "    <tr>\n",
                            "      <th>Diferencia</th>\n",
                            "      <td>0.101308</td>\n",
                            "      <td>0.140363</td>\n",
                            "      <td>0.103843</td>\n",
                            "      <td>0.119224</td>\n",
                            "      <td>0.149977</td>\n",
                            "      <td>0.057710</td>\n",
                            "    </tr>\n",
                            "  </tbody>\n",
                            "</table>\n",
                            "</div>"
                        ],
                        "text/plain": [
                            "            Accuracy        F1       AUC  Precision    Recall  Specificity\n",
                            "Train       0.856410  0.765363  0.816788   0.850932  0.695431     0.938144\n",
                            "Test        0.755102  0.625000  0.712945   0.731707  0.545455     0.880435\n",
                            "Diferencia  0.101308  0.140363  0.103843   0.119224  0.149977     0.057710"
                        ]
                    },
                    "execution_count": 31,
                    "metadata": {},
                    "output_type": "execute_result"
                }
            ],
            "source": [
                "gb3 = GradientBoostingClassifier(n_estimators=500, learning_rate=0.01, max_depth=2, min_samples_split=15, subsample=0.8, random_state=42)\n",
                "gb3.fit(X_train, y_train)\n",
                "\n",
                "y_pred_train3 = gb3.predict(X_train)\n",
                "y_pred_test3 = gb3.predict(X_test)\n",
                "\n",
                "get_metrics(y_train, y_test, y_pred_train3, y_pred_test3)"
            ]
        },
        {
            "cell_type": "code",
            "execution_count": 33,
            "metadata": {},
            "outputs": [
                {
                    "name": "stdout",
                    "output_type": "stream",
                    "text": [
                        "Fitting 5 folds for each of 243 candidates, totalling 1215 fits\n",
                        "Best hyperparameters: {'learning_rate': 0.01, 'max_depth': 3, 'min_samples_split': 15, 'n_estimators': 400, 'subsample': 0.8}\n"
                    ]
                }
            ],
            "source": [
                "# Grid Search\n",
                "hyperparams = {\n",
                "    'n_estimators': [200, 300, 400],\n",
                "    'learning_rate': [0.01, 0.05, 0.1],\n",
                "    'max_depth': [2, 3, 4],\n",
                "    'min_samples_split': [10, 15, 20],\n",
                "    'subsample': [0.8, 0.9, 1.0]\n",
                "}\n",
                "\n",
                "grid = GridSearchCV(gb, hyperparams, cv=5, scoring='accuracy', n_jobs=-1, verbose=1)\n",
                "\n",
                "grid.fit(X_train, y_train)\n",
                "\n",
                "print(f\"Best hyperparameters: {grid.best_params_}\")"
            ]
        },
        {
            "cell_type": "code",
            "execution_count": null,
            "metadata": {},
            "outputs": [
                {
                    "data": {
                        "text/html": [
                            "<div>\n",
                            "<style scoped>\n",
                            "    .dataframe tbody tr th:only-of-type {\n",
                            "        vertical-align: middle;\n",
                            "    }\n",
                            "\n",
                            "    .dataframe tbody tr th {\n",
                            "        vertical-align: top;\n",
                            "    }\n",
                            "\n",
                            "    .dataframe thead th {\n",
                            "        text-align: right;\n",
                            "    }\n",
                            "</style>\n",
                            "<table border=\"1\" class=\"dataframe\">\n",
                            "  <thead>\n",
                            "    <tr style=\"text-align: right;\">\n",
                            "      <th></th>\n",
                            "      <th>Accuracy</th>\n",
                            "      <th>F1</th>\n",
                            "      <th>AUC</th>\n",
                            "      <th>Precision</th>\n",
                            "      <th>Recall</th>\n",
                            "      <th>Specificity</th>\n",
                            "    </tr>\n",
                            "  </thead>\n",
                            "  <tbody>\n",
                            "    <tr>\n",
                            "      <th>Train</th>\n",
                            "      <td>0.894017</td>\n",
                            "      <td>0.82967</td>\n",
                            "      <td>0.862630</td>\n",
                            "      <td>0.904192</td>\n",
                            "      <td>0.766497</td>\n",
                            "      <td>0.958763</td>\n",
                            "    </tr>\n",
                            "    <tr>\n",
                            "      <th>Test</th>\n",
                            "      <td>0.755102</td>\n",
                            "      <td>0.62500</td>\n",
                            "      <td>0.712945</td>\n",
                            "      <td>0.731707</td>\n",
                            "      <td>0.545455</td>\n",
                            "      <td>0.880435</td>\n",
                            "    </tr>\n",
                            "    <tr>\n",
                            "      <th>Diferencia</th>\n",
                            "      <td>0.138915</td>\n",
                            "      <td>0.20467</td>\n",
                            "      <td>0.149686</td>\n",
                            "      <td>0.172484</td>\n",
                            "      <td>0.221043</td>\n",
                            "      <td>0.078328</td>\n",
                            "    </tr>\n",
                            "  </tbody>\n",
                            "</table>\n",
                            "</div>"
                        ],
                        "text/plain": [
                            "            Accuracy       F1       AUC  Precision    Recall  Specificity\n",
                            "Train       0.894017  0.82967  0.862630   0.904192  0.766497     0.958763\n",
                            "Test        0.755102  0.62500  0.712945   0.731707  0.545455     0.880435\n",
                            "Diferencia  0.138915  0.20467  0.149686   0.172484  0.221043     0.078328"
                        ]
                    },
                    "execution_count": 22,
                    "metadata": {},
                    "output_type": "execute_result"
                }
            ],
            "source": [
                "gb_opt = GradientBoostingClassifier(n_estimators=400, learning_rate=0.01, max_depth=3, min_samples_split=15, subsample=0.8, random_state=42)\n",
                "gb_opt.fit(X_train, y_train)\n",
                "\n",
                "y_pred_train_opt = gb_opt.predict(X_train)\n",
                "y_pred_test_opt = gb_opt.predict(X_test)\n",
                "\n",
                "get_metrics(y_train, y_test, y_pred_train_opt, y_pred_test_opt)"
            ]
        },
        {
            "cell_type": "code",
            "execution_count": null,
            "metadata": {},
            "outputs": [
                {
                    "data": {
                        "image/png": "[encoded data removed]",
                        "text/plain": [
                            "<Figure size 800x500 with 1 Axes>"
                        ]
                    },
                    "metadata": {},
                    "output_type": "display_data"
                }
            ],
            "source": [
                "# Graficar resultados\n",
                "modelos = [\"Default\", \"gb1\", \"gb2\", \"gb3\", \"Opt\"]\n",
                "\n",
                "accuracy_train = [0.938462, 0.993162, 0.847863, 0.856410, 0.894017]\n",
                "accuracy_test = [0.755102, 0.734694, 0.755102, 0.755102, 0.755102]\n",
                "\n",
                "plt.figure(figsize=(8, 5))\n",
                "plt.plot(modelos, accuracy_train, marker='o', linestyle='-', color='b', label=\"Train\")\n",
                "plt.plot(modelos, accuracy_test, marker='s', linestyle='--', color='r', label=\"Test\")\n",
                "\n",
                "plt.title(\"Comparación de Accuracy entre Modelos de Boosting\")\n",
                "plt.xlabel(\"Modelos\")\n",
                "plt.ylabel(\"Accuracy\")\n",
                "plt.ylim(0.5, 1.05)\n",
                "plt.legend()\n",
                "plt.grid(True)\n",
                "\n",
                "plt.show()"
            ]
        },
        {
            "cell_type": "markdown",
            "metadata": {},
            "source": [
                "Se puede notar cómo el sobreajuste es más pronunciado en gb1, mientras que gb2, gb3 y Opt logran un mejor equilibrio entre entrenamiento y prueba."
            ]
        },
        {
            "cell_type": "markdown",
            "metadata": {},
            "source": [
                "COMPARACIÓN ENTRE LOS 3 MODELOS\n",
                "\n",
                "Accuracy:\n",
                "\n",
                "Random Forest optimizado tiene el mayor accuracy en el conjunto de test (0.7619), seguido de cerca por Gradient Boosting optimizado (0.7551) y Árbol de Decisión optimizado (0.7143).\n",
                "\n",
                "F1 Score:\n",
                "\n",
                "Árbol de Decisión optimizado tiene el mejor F1 score con un valor de 0.6667, mientras que Random Forest optimizado obtiene 0.6465 y Gradient Boosting optimizado 0.6250.\n",
                "\n",
                "AUC:\n",
                "\n",
                "Árbol de Decisión optimizado tiene el AUC más alto (0.7333), seguido de Random Forest optimizado (0.7257) y Gradient Boosting optimizado (0.7129).\n",
                "\n",
                "Precision:\n",
                "\n",
                "Random Forest optimizado tiene la mayor precision (0.7273), seguido de Gradient Boosting optimizado (0.7317) y Árbol de Decisión optimizado (0.5714).\n",
                "\n",
                "Recall:\n",
                "\n",
                "Árbol de Decisión optimizado tiene el mejor recall (0.8000), seguido de Random Forest optimizado (0.5818) y Gradient Boosting optimizado (0.5455).\n",
                "\n",
                "Specificity:\n",
                "\n",
                "Gradient Boosting optimizado tiene la mejor specificity (0.8804), seguido de Random Forest optimizado (0.8696) y Árbol de Decisión optimizado (0.6667).\n",
                "\n",
                "CONCLUSIÓN:\n",
                "\n",
                "Random Forest parece ser el modelo más equilibrado, destacando en accuracy y specificity, pero en este contexto podría interesar más el Decision Tree ya que, tiene mejor capacidad para identificar correctamente los positivos (mejor recall y AUC)."
            ]
        }
    ],
    "metadata": {
        "kernelspec": {
            "display_name": "Python 3",
            "language": "python",
            "name": "python3"
        },
        "language_info": {
            "codemirror_mode": {
                "name": "ipython",
                "version": 3
            },
            "file_extension": ".py",
            "mimetype": "text/x-python",
            "name": "python",
            "nbconvert_exporter": "python",
            "pygments_lexer": "ipython3",
            "version": "3.10.12"
        },
        "orig_nbformat": 4
    },
    "nbformat": 4,
    "nbformat_minor": 2
}
